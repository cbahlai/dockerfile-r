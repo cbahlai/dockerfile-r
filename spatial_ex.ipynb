{
 "cells": [
  {
   "cell_type": "markdown",
   "metadata": {},
   "source": [
    "A simple example to pull data out of the CropLand Data Layer (National Agricultural Statistics Service, United States Department of Agriculture"
   ]
  },
  {
   "cell_type": "code",
   "execution_count": 1,
   "metadata": {},
   "outputs": [
    {
     "ename": "ERROR",
     "evalue": "Error in library(cdlTools): there is no package called ‘cdlTools’\n",
     "output_type": "error",
     "traceback": [
      "Error in library(cdlTools): there is no package called ‘cdlTools’\nTraceback:\n",
      "1. library(cdlTools)",
      "2. stop(txt, domain = NA)"
     ]
    }
   ],
   "source": [
    "library(\"cdlTools\")\n",
    "\n",
    "#choose year and state to query\n",
    "years <- 2009\n",
    "state <- 'maryland'\n",
    "#get the data (may take a few minutes- bigger states take longer)\n",
    "cdl.raster <- getCDL(state,years)"
   ]
  },
  {
   "cell_type": "code",
   "execution_count": null,
   "metadata": {},
   "outputs": [],
   "source": []
  }
 ],
 "metadata": {
  "kernelspec": {
   "display_name": "R",
   "language": "R",
   "name": "ir"
  },
  "language_info": {
   "codemirror_mode": "r",
   "file_extension": ".r",
   "mimetype": "text/x-r-source",
   "name": "R",
   "pygments_lexer": "r",
   "version": "3.4.2"
  }
 },
 "nbformat": 4,
 "nbformat_minor": 2
}
